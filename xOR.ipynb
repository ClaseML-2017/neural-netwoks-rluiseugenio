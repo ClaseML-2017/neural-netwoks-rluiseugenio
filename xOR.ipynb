{
 "cells": [
  {
   "cell_type": "code",
   "execution_count": 1,
   "metadata": {},
   "outputs": [],
   "source": [
    "import tensorflow as tf\n",
    "import numpy as np"
   ]
  },
  {
   "cell_type": "code",
   "execution_count": 2,
   "metadata": {},
   "outputs": [],
   "source": [
    "#Funcion XOR\n",
    "X=np.asarray([[0,0],[0,1],[1,0],[1,1]])\n",
    "Y=np.asarray([[0],[1],[1],[0]])"
   ]
  },
  {
   "cell_type": "code",
   "execution_count": 3,
   "metadata": {},
   "outputs": [],
   "source": [
    "#Tamanio de cada capa\n",
    "input_size = 2\n",
    "hidden_size = 2\n",
    "output_size=1"
   ]
  },
  {
   "cell_type": "code",
   "execution_count": 4,
   "metadata": {},
   "outputs": [],
   "source": [
    "#Placeholder (variables de tipo tensor) \n",
    "#Input layer\n",
    "x = tf.placeholder(tf.float32, [None, input_size])\n",
    "y = tf.placeholder(tf.float32, [None, output_size])"
   ]
  },
  {
   "cell_type": "code",
   "execution_count": 6,
   "metadata": {},
   "outputs": [],
   "source": [
    "#Hidden layer:\n",
    "#Hay dos neuronas en el la capa escondida, cada una es un perceptron\n",
    "\n",
    "W_hidden = tf.Variable(tf.random_uniform([input_size, 2], -1, 1), name=\"W_layer1\")      #Entradas de dos neuronas\n",
    "b_hidden = tf.Variable(tf.zeros([2]), name=\"b_layer1\")                                #La salida de cada neurona\n",
    "#La coneccion usando las operaciones\n",
    "v1 = tf.nn.sigmoid(tf.matmul(x,W_hidden)+b_hidden)\n",
    "#v1 = tf.nn.tanh(tf.matmul(x,W_hidden)+b_hidden)"
   ]
  },
  {
   "cell_type": "code",
   "execution_count": 8,
   "metadata": {},
   "outputs": [],
   "source": [
    "#Output Layer\n",
    "W_output = tf.Variable(tf.random_uniform([hidden_size,output_size], -1, 1), name=\"W_layer1\")\n",
    "b_output = tf.Variable(tf.zeros([output_size]), name=\"b_layer1\")\n",
    "#Tenemos una salida en la capa de utput\n",
    "v2 = tf.nn.sigmoid(tf.matmul(v1,W_output)+b_output)\n",
    "#v2 = tf.nn.tanh(tf.matmul(v1,W_output)+b_output)\n",
    "#En esta capa se hace la reduccion de error\n",
    "loss = tf.reduce_mean(tf.reduce_sum((v2-y)**2))\n",
    "train_step = tf.train.GradientDescentOptimizer(0.01).minimize(loss)"
   ]
  },
  {
   "cell_type": "code",
   "execution_count": 9,
   "metadata": {},
   "outputs": [
    {
     "name": "stdout",
     "output_type": "stream",
     "text": [
      "[[ 0.50447267]\n",
      " [ 0.4842976 ]\n",
      " [ 0.51510251]\n",
      " [ 0.49106073]]\n",
      "[[-0.65435702]\n",
      " [-0.57938743]]\n"
     ]
    }
   ],
   "source": [
    "#Correr el tensorflow\n",
    "init = tf.global_variables_initializer()\n",
    "sess = tf.Session()\n",
    "sess.run(init)\n",
    "for i in range(10000):\n",
    "  sess.run(train_step, feed_dict={x: X, y: Y})\n",
    "#print(sess.run(v1, feed_dict={x: X}))\n",
    "print(sess.run(v2, feed_dict={x: X}))\n",
    "print(sess.run(W_output))\n",
    "sess.close()"
   ]
  },
  {
   "cell_type": "code",
   "execution_count": null,
   "metadata": {},
   "outputs": [],
   "source": []
  }
 ],
 "metadata": {
  "kernelspec": {
   "display_name": "Python 2",
   "language": "python",
   "name": "python2"
  },
  "language_info": {
   "codemirror_mode": {
    "name": "ipython",
    "version": 2
   },
   "file_extension": ".py",
   "mimetype": "text/x-python",
   "name": "python",
   "nbconvert_exporter": "python",
   "pygments_lexer": "ipython2",
   "version": "2.7.12"
  }
 },
 "nbformat": 4,
 "nbformat_minor": 2
}
