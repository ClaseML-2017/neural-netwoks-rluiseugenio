{
 "cells": [
  {
   "cell_type": "code",
   "execution_count": 1,
   "metadata": {},
   "outputs": [],
   "source": [
    "import random\n",
    "import numpy as np\n",
    "import tensorflow as tf"
   ]
  },
  {
   "cell_type": "code",
   "execution_count": 2,
   "metadata": {},
   "outputs": [],
   "source": [
    "#Funciones para generar el círculo\n",
    "\n",
    "def circUni(x, y):\n",
    "    r = (x**2 + y**2)**0.5\n",
    "    return r<=1\n",
    "\n",
    "def generarDatos(num):\n",
    "    xrange = [-2,2]\n",
    "    #yrange = [-2,2]\n",
    "    ps = np.asarray([[random.uniform(xrange[0], xrange[1]) for i in range(2)] for j in range(num)])\n",
    "    zs = []\n",
    "    for j in range(num):\n",
    "        r = 1.0 if circUni(ps[j,0],ps[j,1]) else 0.0\n",
    "        zs.append([r])\n",
    "    zs = np.asarray(zs)\n",
    "    return [ps, zs]\n",
    "\n"
   ]
  },
  {
   "cell_type": "code",
   "execution_count": 3,
   "metadata": {},
   "outputs": [],
   "source": [
    "#Red neuronal\n",
    "train = generarDatos(200)\n",
    "test = generarDatos(10)\n",
    "capas = 4\n",
    "\n"
   ]
  },
  {
   "cell_type": "code",
   "execution_count": 4,
   "metadata": {},
   "outputs": [],
   "source": [
    "#Input layer\n",
    "p = tf.placeholder(tf.float32, [None, 2])\n",
    "z = tf.placeholder(tf.float32, [None, 1])\n"
   ]
  },
  {
   "cell_type": "code",
   "execution_count": 5,
   "metadata": {},
   "outputs": [],
   "source": [
    "#Hidden layer\n",
    "wh = tf.Variable(tf.random_uniform([2, capas], -1, 1))\n",
    "bh = tf.Variable(tf.zeros([capas]))\n",
    "h = tf.nn.sigmoid(tf.matmul(p,wh)+bh)\n"
   ]
  },
  {
   "cell_type": "code",
   "execution_count": 6,
   "metadata": {},
   "outputs": [],
   "source": [
    "#Output layer\n",
    "wo = tf.Variable(tf.random_uniform([capas,1], -1, 1))\n",
    "bo = tf.Variable(tf.zeros([1]), name=\"b_layer1\")\n",
    "vo = tf.nn.sigmoid(tf.matmul(h,wo)+bo)\n"
   ]
  },
  {
   "cell_type": "code",
   "execution_count": 7,
   "metadata": {},
   "outputs": [],
   "source": [
    "#Error y definicion de entrenamientos\n",
    "loss = tf.reduce_mean(tf.reduce_sum((vo-z)**2))\n",
    "train_step = tf.train.GradientDescentOptimizer(0.01).minimize(loss)"
   ]
  },
  {
   "cell_type": "code",
   "execution_count": 11,
   "metadata": {},
   "outputs": [],
   "source": [
    "#corre la sesion\n",
    "init = tf.global_variables_initializer()\n",
    "sess = tf.Session()\n",
    "sess.run(init)"
   ]
  },
  {
   "cell_type": "code",
   "execution_count": 12,
   "metadata": {},
   "outputs": [
    {
     "name": "stdout",
     "output_type": "stream",
     "text": [
      "Datos de pruebas:\n",
      "[[ 0.76800523 -1.46882582]\n",
      " [ 1.37148743 -1.97648917]\n",
      " [-1.29438277 -1.52736808]\n",
      " [-1.23205853  1.37415609]\n",
      " [-1.09344258  0.50203948]\n",
      " [ 0.32932839 -0.19185353]\n",
      " [ 1.80553582  1.32678837]\n",
      " [ 1.3059009   0.23952091]\n",
      " [ 0.27484053 -0.18941926]\n",
      " [-1.72940975  1.7577552 ]]\n"
     ]
    }
   ],
   "source": [
    "#entrenamiento\n",
    "for i in range(1000):\n",
    "    sess.run(train_step, feed_dict={p:train[0], z:train[1]})\n",
    "print 'Datos de pruebas:'\n",
    "print test[0]\n"
   ]
  },
  {
   "cell_type": "code",
   "execution_count": 13,
   "metadata": {},
   "outputs": [
    {
     "name": "stdout",
     "output_type": "stream",
     "text": [
      "Resultados de la red:\n",
      "[[  8.11014473e-02]\n",
      " [  6.42469972e-02]\n",
      " [  5.11342585e-02]\n",
      " [  5.11444267e-03]\n",
      " [  2.25308195e-01]\n",
      " [  9.02590573e-01]\n",
      " [  4.41972166e-02]\n",
      " [  1.91919237e-01]\n",
      " [  9.12261546e-01]\n",
      " [  7.10574561e-04]]\n"
     ]
    }
   ],
   "source": [
    "#pruebas\n",
    "print 'Resultados de la red:'\n",
    "print(sess.run(vo, feed_dict={p:test[0]}))\n",
    "sess.close()"
   ]
  }
 ],
 "metadata": {
  "kernelspec": {
   "display_name": "Python 2",
   "language": "python",
   "name": "python2"
  },
  "language_info": {
   "codemirror_mode": {
    "name": "ipython",
    "version": 2
   },
   "file_extension": ".py",
   "mimetype": "text/x-python",
   "name": "python",
   "nbconvert_exporter": "python",
   "pygments_lexer": "ipython2",
   "version": "2.7.12"
  }
 },
 "nbformat": 4,
 "nbformat_minor": 2
}
