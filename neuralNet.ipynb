{
 "cells": [
  {
   "cell_type": "code",
   "execution_count": 1,
   "metadata": {},
   "outputs": [],
   "source": [
    "import tensorflow as tf\n",
    "import numpy as np\n",
    "import matplotlib.pyplot as plt"
   ]
  },
  {
   "cell_type": "code",
   "execution_count": 2,
   "metadata": {},
   "outputs": [],
   "source": [
    "X=np.asarray([[0,0],[0,1],[1,0],[1,1]])\n",
    "Y=np.asarray([[0],[0],[0],[1]])\n",
    "input_size=2\n",
    "output_layer_size=1\n",
    "#Los placeholders son para los datos de entrada y salida\n",
    "x = tf.placeholder(tf.float32, [None, input_size])\n",
    "y_ = tf.placeholder(tf.float32, [None, output_layer_size]) \n",
    "#Las variables para lo que se va a ir calculando y modificando en el camino\n",
    "W_layer1 = tf.Variable(tf.random_uniform([input_size,output_layer_size], -1, 1), name=\"W_layer1\")\n",
    "b_layer1 = tf.Variable(tf.zeros([output_layer_size]), name=\"b_layer1\")  #Es el w0"
   ]
  },
  {
   "cell_type": "code",
   "execution_count": 6,
   "metadata": {},
   "outputs": [],
   "source": [
    "#La propagacion de la red es el algoritmo de la regularizacion\n",
    "y = tf.nn.sigmoid(tf.matmul(x,W_layer1)+b_layer1) #Regresion logistica\n",
    "lossfn = tf.reduce_mean(tf.reduce_sum((y_-y)**2)) #cuadrático\n",
    "train_step = tf.train.GradientDescentOptimizer(0.01).minimize(lossfn)\n",
    "init = tf.global_variables_initializer()\n",
    "sess = tf.Session() # tipo de sesion, puede ser interactiva"
   ]
  },
  {
   "cell_type": "code",
   "execution_count": 7,
   "metadata": {},
   "outputs": [],
   "source": [
    "#Correr el tensorflow\n",
    "sess.run(init)\n",
    "for i in range(1000):\n",
    "  sess.run(train_step, feed_dict={x: X, y_: Y})"
   ]
  },
  {
   "cell_type": "code",
   "execution_count": 8,
   "metadata": {},
   "outputs": [
    {
     "name": "stdout",
     "output_type": "stream",
     "text": [
      "[[ 0.17773163]\n",
      " [ 0.33763692]\n",
      " [ 0.32206669]\n",
      " [ 0.52838421]]\n",
      "[[ 0.78750193]\n",
      " [ 0.85794938]]\n"
     ]
    }
   ],
   "source": [
    "#Ejemplo de como ver las variables\n",
    "print(sess.run(y, feed_dict={x: X}))\n",
    "print(sess.run(W_layer1))\n",
    "sess.close()"
   ]
  }
 ],
 "metadata": {
  "kernelspec": {
   "display_name": "Python 2",
   "language": "python",
   "name": "python2"
  },
  "language_info": {
   "codemirror_mode": {
    "name": "ipython",
    "version": 2
   },
   "file_extension": ".py",
   "mimetype": "text/x-python",
   "name": "python",
   "nbconvert_exporter": "python",
   "pygments_lexer": "ipython2",
   "version": "2.7.12"
  }
 },
 "nbformat": 4,
 "nbformat_minor": 2
}
